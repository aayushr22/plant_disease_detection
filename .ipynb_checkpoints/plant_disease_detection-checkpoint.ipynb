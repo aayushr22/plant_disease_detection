{
 "cells": [
  {
   "cell_type": "markdown",
   "id": "bd6af50e",
   "metadata": {},
   "source": [
    "# Plant Disease Detection using CNN"
   ]
  },
  {
   "cell_type": "code",
   "execution_count": null,
   "id": "51942686",
   "metadata": {
    "vscode": {
     "languageId": "plaintext"
    }
   },
   "outputs": [],
   "source": [
    "import numpy as np\n",
    "import pandas as pd\n",
    "import matplotlib.pyplot as plt\n",
    "import seaborn as sns\n",
    "from sklearn.model_selection import train_test_split\n",
    "from sklearn.metrics import classification_report, confusion_matrix\n",
    "import tensorflow as tf\n",
    "from tensorflow import keras\n",
    "from tensorflow.keras import layers\n",
    "from PIL import Image\n",
    "import ipywidgets as widgets\n",
    "from IPython.display import display, clear_output\n",
    "import warnings\n",
    "warnings.filterwarnings('ignore')\n",
    "\n",
    "print(\"TensorFlow version:\", tf.__version__)"
   ]
  },
  {
   "cell_type": "markdown",
   "id": "41a35361",
   "metadata": {},
   "source": [
    "## Creating Dataset"
   ]
  },
  {
   "cell_type": "code",
   "execution_count": null,
   "id": "5ad8e727",
   "metadata": {
    "vscode": {
     "languageId": "plaintext"
    }
   },
   "outputs": [],
   "source": [
    "def create_synthetic_plant_data(num_samples=1000):\n",
    "    X = np.random.rand(num_samples, 32, 32, 3) * 255\n",
    "    X = X.astype(np.uint8)\n",
    "    y = np.random.choice([0, 1], size=num_samples, p=[0.6, 0.4])\n",
    "    \n",
    "    for i in range(num_samples):\n",
    "        if y[i] == 1:\n",
    "            X[i, :, :, 0] += np.random.randint(20, 50)\n",
    "            X[i, :, :, 1] -= np.random.randint(10, 30)\n",
    "        else:\n",
    "            X[i, :, :, 1] += np.random.randint(20, 40)\n",
    "    \n",
    "    X = np.clip(X, 0, 255)\n",
    "    return X, y\n",
    "\n",
    "X_data, y_data = create_synthetic_plant_data(1000)\n",
    "print(f\"Dataset: {X_data.shape}, Healthy: {np.sum(y_data == 0)}, Diseased: {np.sum(y_data == 1)}\")"
   ]
  },
  {
   "cell_type": "markdown",
   "id": "457d4804",
   "metadata": {},
   "source": [
    "## Visualising Data"
   ]
  },
  {
   "cell_type": "code",
   "execution_count": null,
   "id": "b892ce31",
   "metadata": {
    "vscode": {
     "languageId": "plaintext"
    }
   },
   "outputs": [],
   "source": [
    "fig, axes = plt.subplots(2, 4, figsize=(10, 5))\n",
    "for i in range(8):\n",
    "    row, col = i // 4, i % 4\n",
    "    axes[row, col].imshow(X_data[i])\n",
    "    status = \"Diseased\" if y_data[i] == 1 else \"Healthy\"\n",
    "    axes[row, col].set_title(status)\n",
    "    axes[row, col].axis('off')\n",
    "plt.tight_layout()\n",
    "plt.show()"
   ]
  },
  {
   "cell_type": "markdown",
   "id": "2ae37067",
   "metadata": {},
   "source": [
    "## Preprocessing Data"
   ]
  },
  {
   "cell_type": "code",
   "execution_count": null,
   "id": "c53d6f73",
   "metadata": {
    "vscode": {
     "languageId": "plaintext"
    }
   },
   "outputs": [],
   "source": [
    "X_normalized = X_data.astype('float32') / 255.0\n",
    "X_train, X_test, y_train, y_test = train_test_split(\n",
    "    X_normalized, y_data, test_size=0.2, random_state=42, stratify=y_data\n",
    ")\n",
    "print(f\"Training: {X_train.shape[0]}, Testing: {X_test.shape[0]}\")"
   ]
  },
  {
   "cell_type": "markdown",
   "id": "559bc3bf",
   "metadata": {},
   "source": [
    "## CNN Model"
   ]
  },
  {
   "cell_type": "code",
   "execution_count": null,
   "id": "a5ee2a8d",
   "metadata": {
    "vscode": {
     "languageId": "plaintext"
    }
   },
   "outputs": [],
   "source": [
    "model = keras.Sequential([\n",
    "    layers.Conv2D(32, (3, 3), activation='relu', input_shape=(32, 32, 3)),\n",
    "    layers.MaxPooling2D((2, 2)),\n",
    "    layers.Conv2D(64, (3, 3), activation='relu'),\n",
    "    layers.MaxPooling2D((2, 2)),\n",
    "    layers.Conv2D(64, (3, 3), activation='relu'),\n",
    "    layers.Flatten(),\n",
    "    layers.Dense(64, activation='relu'),\n",
    "    layers.Dropout(0.5),\n",
    "    layers.Dense(1, activation='sigmoid')\n",
    "])\n",
    "\n",
    "model.compile(optimizer='adam', loss='binary_crossentropy', metrics=['accuracy'])\n",
    "model.summary()"
   ]
  },
  {
   "cell_type": "markdown",
   "id": "31c98af7",
   "metadata": {},
   "source": [
    "## Training Model"
   ]
  },
  {
   "cell_type": "code",
   "execution_count": null,
   "id": "b650b0c1",
   "metadata": {
    "vscode": {
     "languageId": "plaintext"
    }
   },
   "outputs": [],
   "source": [
    "history = model.fit(X_train, y_train, batch_size=32, epochs=10, validation_data=(X_test, y_test), verbose=1)"
   ]
  },
  {
   "cell_type": "markdown",
   "id": "da29ff7a",
   "metadata": {},
   "source": [
    "## Evaluate Model"
   ]
  },
  {
   "cell_type": "code",
   "execution_count": null,
   "id": "bc86d971",
   "metadata": {
    "vscode": {
     "languageId": "plaintext"
    }
   },
   "outputs": [],
   "source": [
    "fig, (ax1, ax2) = plt.subplots(1, 2, figsize=(10, 4))\n",
    "ax1.plot(history.history['accuracy'], label='Training')\n",
    "ax1.plot(history.history['val_accuracy'], label='Validation')\n",
    "ax1.set_title('Accuracy')\n",
    "ax1.legend()\n",
    "\n",
    "ax2.plot(history.history['loss'], label='Training')\n",
    "ax2.plot(history.history['val_loss'], label='Validation')\n",
    "ax2.set_title('Loss')\n",
    "ax2.legend()\n",
    "plt.show()\n",
    "\n",
    "test_loss, test_accuracy = model.evaluate(X_test, y_test, verbose=0)\n",
    "print(f\"Test Accuracy: {test_accuracy:.4f}\")"
   ]
  },
  {
   "cell_type": "code",
   "execution_count": null,
   "id": "f85a03a6",
   "metadata": {
    "vscode": {
     "languageId": "plaintext"
    }
   },
   "outputs": [],
   "source": [
    "y_pred_prob = model.predict(X_test)\n",
    "y_pred = (y_pred_prob > 0.5).astype(int)\n",
    "\n",
    "print(\"Classification Report:\")\n",
    "print(classification_report(y_test, y_pred, target_names=['Healthy', 'Diseased']))\n",
    "\n",
    "cm = confusion_matrix(y_test, y_pred)\n",
    "plt.figure(figsize=(6, 4))\n",
    "sns.heatmap(cm, annot=True, fmt='d', cmap='Blues', \n",
    "            xticklabels=['Healthy', 'Diseased'], yticklabels=['Healthy', 'Diseased'])\n",
    "plt.title('Confusion Matrix')\n",
    "plt.show()"
   ]
  },
  {
   "cell_type": "markdown",
   "id": "140f0487",
   "metadata": {},
   "source": [
    "## Test Random Predictions"
   ]
  },
  {
   "cell_type": "code",
   "execution_count": null,
   "id": "9797d7b8",
   "metadata": {
    "vscode": {
     "languageId": "plaintext"
    }
   },
   "outputs": [],
   "source": [
    "def test_prediction():\n",
    "    idx = np.random.randint(0, len(X_test))\n",
    "    test_img = X_test[idx:idx+1]\n",
    "    actual = y_test[idx]\n",
    "    pred_prob = model.predict(test_img, verbose=0)[0][0]\n",
    "    predicted = 1 if pred_prob > 0.5 else 0\n",
    "    \n",
    "    fig, (ax1, ax2) = plt.subplots(1, 2, figsize=(10, 4))\n",
    "    ax1.imshow(X_test[idx])\n",
    "    ax1.set_title('Test Image')\n",
    "    ax1.axis('off')\n",
    "    \n",
    "    labels = ['Healthy', 'Diseased']\n",
    "    probs = [1-pred_prob, pred_prob]\n",
    "    ax2.bar(labels, probs, color=['green', 'red'], alpha=0.7)\n",
    "    ax2.set_ylim(0, 1)\n",
    "    ax2.set_title('Prediction')\n",
    "    \n",
    "    plt.show()\n",
    "    actual_status = \"Diseased\" if actual == 1 else \"Healthy\"\n",
    "    pred_status = \"Diseased\" if predicted == 1 else \"Healthy\"\n",
    "    print(f\"Actual: {actual_status}, Predicted: {pred_status}\")\n",
    "\n",
    "test_prediction()"
   ]
  },
  {
   "cell_type": "markdown",
   "id": "141b3e36",
   "metadata": {},
   "source": [
    "## SAVING MODEL"
   ]
  },
  {
   "cell_type": "code",
   "execution_count": null,
   "id": "a50ab5b5",
   "metadata": {
    "vscode": {
     "languageId": "plaintext"
    }
   },
   "outputs": [],
   "source": [
    "model.save('plant_disease_detection.keras')\n",
    "print(\"Project model saved successfully!\")"
   ]
  }
 ],
 "metadata": {
  "language_info": {
   "name": "python"
  }
 },
 "nbformat": 4,
 "nbformat_minor": 5
}
